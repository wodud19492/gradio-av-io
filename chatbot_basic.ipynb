{
 "cells": [
  {
   "cell_type": "markdown",
   "metadata": {},
   "source": [
    "chatbot basic"
   ]
  },
  {
   "cell_type": "markdown",
   "metadata": {},
   "source": [
    "필요한 파츠\n",
    "1. Face detection (자동 켜짐?)\n",
    "2. STT (화자의 발언내용 문자화)\n",
    "3. LLM (문자화된 발언 내용 처리)\n",
    "4. TTS (처리 결과 음성재생)\n",
    "5. speech - lip motion sync (음성 재생 시)"
   ]
  },
  {
   "cell_type": "code",
   "execution_count": null,
   "metadata": {},
   "outputs": [],
   "source": []
  }
 ],
 "metadata": {
  "language_info": {
   "name": "python"
  }
 },
 "nbformat": 4,
 "nbformat_minor": 2
}
